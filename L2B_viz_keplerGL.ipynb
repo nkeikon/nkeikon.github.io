{
 "cells": [
  {
   "cell_type": "code",
   "execution_count": 1,
   "metadata": {},
   "outputs": [
    {
     "name": "stdout",
     "output_type": "stream",
     "text": [
      "User Guide: https://github.com/keplergl/kepler.gl/blob/master/docs/keplergl-jupyter/user-guide.md\n"
     ]
    }
   ],
   "source": [
    "import pandas as pd\n",
    "from keplergl import KeplerGl \n",
    "map_1 = KeplerGl()"
   ]
  },
  {
   "cell_type": "code",
   "execution_count": 2,
   "metadata": {},
   "outputs": [
    {
     "data": {
      "text/html": [
       "<div>\n",
       "<style scoped>\n",
       "    .dataframe tbody tr th:only-of-type {\n",
       "        vertical-align: middle;\n",
       "    }\n",
       "\n",
       "    .dataframe tbody tr th {\n",
       "        vertical-align: top;\n",
       "    }\n",
       "\n",
       "    .dataframe thead th {\n",
       "        text-align: right;\n",
       "    }\n",
       "</style>\n",
       "<table border=\"1\" class=\"dataframe\">\n",
       "  <thead>\n",
       "    <tr style=\"text-align: right;\">\n",
       "      <th></th>\n",
       "      <th>Longitude</th>\n",
       "      <th>Latitude</th>\n",
       "      <th>height_bin0</th>\n",
       "      <th>rh100</th>\n",
       "      <th>Total canopy cover</th>\n",
       "      <th>quality</th>\n",
       "    </tr>\n",
       "  </thead>\n",
       "  <tbody>\n",
       "    <tr>\n",
       "      <th>0</th>\n",
       "      <td>-112.129973</td>\n",
       "      <td>25.820920</td>\n",
       "      <td>3.025936</td>\n",
       "      <td>2.95</td>\n",
       "      <td>0.001378</td>\n",
       "      <td>1</td>\n",
       "    </tr>\n",
       "    <tr>\n",
       "      <th>1</th>\n",
       "      <td>-112.116152</td>\n",
       "      <td>25.835301</td>\n",
       "      <td>25.798561</td>\n",
       "      <td>21.20</td>\n",
       "      <td>0.839151</td>\n",
       "      <td>1</td>\n",
       "    </tr>\n",
       "    <tr>\n",
       "      <th>2</th>\n",
       "      <td>-112.115402</td>\n",
       "      <td>25.836079</td>\n",
       "      <td>37.147896</td>\n",
       "      <td>17.89</td>\n",
       "      <td>0.701260</td>\n",
       "      <td>1</td>\n",
       "    </tr>\n",
       "    <tr>\n",
       "      <th>3</th>\n",
       "      <td>-112.115027</td>\n",
       "      <td>25.836468</td>\n",
       "      <td>19.468002</td>\n",
       "      <td>14.38</td>\n",
       "      <td>0.696067</td>\n",
       "      <td>1</td>\n",
       "    </tr>\n",
       "    <tr>\n",
       "      <th>4</th>\n",
       "      <td>-112.114652</td>\n",
       "      <td>25.836858</td>\n",
       "      <td>17.933070</td>\n",
       "      <td>10.30</td>\n",
       "      <td>0.523056</td>\n",
       "      <td>1</td>\n",
       "    </tr>\n",
       "    <tr>\n",
       "      <th>...</th>\n",
       "      <td>...</td>\n",
       "      <td>...</td>\n",
       "      <td>...</td>\n",
       "      <td>...</td>\n",
       "      <td>...</td>\n",
       "      <td>...</td>\n",
       "    </tr>\n",
       "    <tr>\n",
       "      <th>139913</th>\n",
       "      <td>48.620140</td>\n",
       "      <td>-17.289680</td>\n",
       "      <td>9.358141</td>\n",
       "      <td>9.25</td>\n",
       "      <td>0.109169</td>\n",
       "      <td>1</td>\n",
       "    </tr>\n",
       "    <tr>\n",
       "      <th>139914</th>\n",
       "      <td>48.620468</td>\n",
       "      <td>-17.290090</td>\n",
       "      <td>25.727953</td>\n",
       "      <td>15.09</td>\n",
       "      <td>0.280306</td>\n",
       "      <td>1</td>\n",
       "    </tr>\n",
       "    <tr>\n",
       "      <th>139915</th>\n",
       "      <td>48.620797</td>\n",
       "      <td>-17.290500</td>\n",
       "      <td>20.633543</td>\n",
       "      <td>20.14</td>\n",
       "      <td>0.415462</td>\n",
       "      <td>1</td>\n",
       "    </tr>\n",
       "    <tr>\n",
       "      <th>139916</th>\n",
       "      <td>48.649732</td>\n",
       "      <td>-17.326550</td>\n",
       "      <td>3.889171</td>\n",
       "      <td>3.74</td>\n",
       "      <td>0.006722</td>\n",
       "      <td>1</td>\n",
       "    </tr>\n",
       "    <tr>\n",
       "      <th>139917</th>\n",
       "      <td>48.650060</td>\n",
       "      <td>-17.326959</td>\n",
       "      <td>11.868034</td>\n",
       "      <td>11.35</td>\n",
       "      <td>0.580812</td>\n",
       "      <td>1</td>\n",
       "    </tr>\n",
       "  </tbody>\n",
       "</table>\n",
       "<p>139918 rows × 6 columns</p>\n",
       "</div>"
      ],
      "text/plain": [
       "         Longitude   Latitude  height_bin0  rh100  Total canopy cover  quality\n",
       "0      -112.129973  25.820920     3.025936   2.95            0.001378        1\n",
       "1      -112.116152  25.835301    25.798561  21.20            0.839151        1\n",
       "2      -112.115402  25.836079    37.147896  17.89            0.701260        1\n",
       "3      -112.115027  25.836468    19.468002  14.38            0.696067        1\n",
       "4      -112.114652  25.836858    17.933070  10.30            0.523056        1\n",
       "...            ...        ...          ...    ...                 ...      ...\n",
       "139913   48.620140 -17.289680     9.358141   9.25            0.109169        1\n",
       "139914   48.620468 -17.290090    25.727953  15.09            0.280306        1\n",
       "139915   48.620797 -17.290500    20.633543  20.14            0.415462        1\n",
       "139916   48.649732 -17.326550     3.889171   3.74            0.006722        1\n",
       "139917   48.650060 -17.326959    11.868034  11.35            0.580812        1\n",
       "\n",
       "[139918 rows x 6 columns]"
      ]
     },
     "execution_count": 2,
     "metadata": {},
     "output_type": "execute_result"
    }
   ],
   "source": [
    "file = \"https://raw.githubusercontent.com/nkeikon/GEDI-experiment/master/GEDI02_B_2019118103533_O02121_T04316_02_001_01.csv?token=AK2B4K4K6CXIEEBEB73TVSK6SORGI\"\n",
    "df = pd.read_csv(file)\n",
    "df"
   ]
  },
  {
   "cell_type": "code",
   "execution_count": 3,
   "metadata": {},
   "outputs": [
    {
     "data": {
      "application/vnd.jupyter.widget-view+json": {
       "model_id": "7838550e3ced449195a4f86b6f10cd3c",
       "version_major": 2,
       "version_minor": 0
      },
      "text/plain": [
       "KeplerGl(data={'GEDI': {'index': [0, 1, 2, 3, 4, 5, 6, 7, 8, 9, 10, 11, 12, 13, 14, 15, 16, 17, 18, 19, 20, 21…"
      ]
     },
     "metadata": {},
     "output_type": "display_data"
    }
   ],
   "source": [
    "map_1.add_data(data=df, name='GEDI')\n",
    "map_1\n",
    "#Change the display settings on the map"
   ]
  },
  {
   "cell_type": "code",
   "execution_count": 5,
   "metadata": {},
   "outputs": [
    {
     "name": "stdout",
     "output_type": "stream",
     "text": [
      "Map saved to gedi_viz.html!\n"
     ]
    }
   ],
   "source": [
    "map_1.save_to_html(file_name='gedi_viz.html')"
   ]
  },
  {
   "cell_type": "code",
   "execution_count": null,
   "metadata": {},
   "outputs": [],
   "source": []
  }
 ],
 "metadata": {
  "kernelspec": {
   "display_name": "Python 3.7.4 64-bit ('base': conda)",
   "language": "python",
   "name": "python37464bitbasecondad768bab6a1784008afc0173a984dd76d"
  },
  "language_info": {
   "codemirror_mode": {
    "name": "ipython",
    "version": 3
   },
   "file_extension": ".py",
   "mimetype": "text/x-python",
   "name": "python",
   "nbconvert_exporter": "python",
   "pygments_lexer": "ipython3",
   "version": "3.7.4"
  }
 },
 "nbformat": 4,
 "nbformat_minor": 4
}
